{
 "cells": [
  {
   "cell_type": "code",
   "execution_count": null,
   "metadata": {},
   "outputs": [],
   "source": [
    "import pandas as pd\n",
    "import os\n",
    "\n",
    "glove_dir = os.path.join(os.getcwd(), '..', 'glove.6B')\n",
    "\n",
    "df = pd.read_csv(os.path.join(glove_dir, 'glove.6B.50d.csv'), index_col=0)\n",
    "df.head()\n",
    "\n",
    "# 获取'dog'的向量并转换为DataFrame\n",
    "dog_vector = df.loc['dog'].to_list()\n",
    "dog_df = pd.DataFrame([dog_vector], columns=[str(i) for i in range(1, 51)])\n",
    "dog_df.insert(0, 'index', 'dog')\n",
    "\n",
    "# 保存为CSV文件\n",
    "dog_df.to_csv(os.path.join(glove_dir, 'dog.csv'), index=False)"
   ]
  }
 ],
 "metadata": {
  "kernelspec": {
   "display_name": "Python 3",
   "language": "python",
   "name": "python3"
  },
  "language_info": {
   "codemirror_mode": {
    "name": "ipython",
    "version": 3
   },
   "file_extension": ".py",
   "mimetype": "text/x-python",
   "name": "python",
   "nbconvert_exporter": "python",
   "pygments_lexer": "ipython3",
   "version": "3.12.8"
  }
 },
 "nbformat": 4,
 "nbformat_minor": 2
}
