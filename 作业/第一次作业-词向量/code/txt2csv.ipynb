{
 "cells": [
  {
   "cell_type": "code",
   "execution_count": 4,
   "metadata": {},
   "outputs": [
    {
     "name": "stdout",
     "output_type": "stream",
     "text": [
      "glove2csv done\n"
     ]
    }
   ],
   "source": [
    "import os\n",
    "import pandas as pd\n",
    "\n",
    "# 获取当前目录\n",
    "dir = os.getcwd()\n",
    "glove_dir = os.path.join(dir, '..', 'glove.6B')\n",
    "glove_file = os.path.join(glove_dir, 'glove.6B.50d.txt')\n",
    "\n",
    "# 读取glove文件并转化为csv文件\n",
    "def glove2csv(glove_file):\n",
    "    with open(glove_file, 'r') as f:\n",
    "        lines = f.readlines()\n",
    "    words = []\n",
    "    vectors = []\n",
    "    for line in lines:\n",
    "        line = line.strip().split()\n",
    "        words.append(line[0])\n",
    "        vectors.append(list(map(float, line[1:])))\n",
    "    df = pd.DataFrame(vectors, index=words)\n",
    "    df.to_csv(os.path.join(glove_dir, 'glove.6B.50d.csv'))\n",
    "\n",
    "glove2csv(glove_file)\n",
    "print('glove2csv done')\n"
   ]
  }
 ],
 "metadata": {
  "kernelspec": {
   "display_name": "Python 3",
   "language": "python",
   "name": "python3"
  },
  "language_info": {
   "codemirror_mode": {
    "name": "ipython",
    "version": 3
   },
   "file_extension": ".py",
   "mimetype": "text/x-python",
   "name": "python",
   "nbconvert_exporter": "python",
   "pygments_lexer": "ipython3",
   "version": "3.12.8"
  }
 },
 "nbformat": 4,
 "nbformat_minor": 2
}
